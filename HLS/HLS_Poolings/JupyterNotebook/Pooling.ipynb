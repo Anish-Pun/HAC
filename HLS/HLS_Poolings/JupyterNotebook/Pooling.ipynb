{
 "cells": [
  {
   "cell_type": "code",
   "execution_count": 1,
   "id": "2a7ca29e",
   "metadata": {},
   "outputs": [
    {
     "name": "stdout",
     "output_type": "stream",
     "text": [
      "Writing main.py\n"
     ]
    }
   ],
   "source": [
    "from pynq import Overlay, allocate\n",
    "import numpy as np\n",
    "from PIL import Image\n",
    "import os\n",
    "\n",
    "# Constants\n",
    "IMG_WIDTH = 64\n",
    "IMG_HEIGHT = 64\n",
    "POOL_WIDTH = 32\n",
    "POOL_HEIGHT = 32\n",
    "UPSCALE_FACTOR = 8  # final image = 32x8 = 256\n",
    "INPUT_DIR = \"images\"\n",
    "OUTPUT_DIR = \"results\"\n",
    "\n",
    "print(\"🔄 Loading Overlay...\")\n",
    "overlay = Overlay(\"Pooling.xsa\")\n",
    "overlay.download()\n",
    "print(\"✅ Overlay Loaded.\")\n",
    "\n",
    "poll = overlay.pollings_0\n",
    "os.makedirs(OUTPUT_DIR, exist_ok=True)\n",
    "\n",
    "for i in range(1, 11):\n",
    "    img_path = f\"{INPUT_DIR}/input{i}.png\"\n",
    "    out_max = f\"{OUTPUT_DIR}/max_pool_{i}.png\"\n",
    "    out_min = f\"{OUTPUT_DIR}/min_pool_{i}.png\"\n",
    "    out_avg = f\"{OUTPUT_DIR}/avg_pool_{i}.png\"\n",
    "\n",
    "    print(f\"\\n📥 Processing {img_path}\")\n",
    "\n",
    "    try:\n",
    "        img = Image.open(img_path).convert(\"L\").resize((IMG_WIDTH, IMG_HEIGHT))\n",
    "        img_np = np.array(img, dtype=np.uint8)\n",
    "    except Exception as e:\n",
    "        print(f\"❌ Error loading image: {e}\")\n",
    "        continue\n",
    "\n",
    "    in_buf = allocate(shape=(IMG_HEIGHT, IMG_WIDTH), dtype=np.uint8)\n",
    "    max_buf = allocate(shape=(POOL_HEIGHT, POOL_WIDTH), dtype=np.uint8)\n",
    "    min_buf = allocate(shape=(POOL_HEIGHT, POOL_WIDTH), dtype=np.uint8)\n",
    "    avg_buf = allocate(shape=(POOL_HEIGHT, POOL_WIDTH), dtype=np.uint8)\n",
    "\n",
    "    np.copyto(in_buf, img_np)\n",
    "\n",
    "    poll.write(0x10, in_buf.physical_address & 0xFFFFFFFF)\n",
    "    poll.write(0x14, (in_buf.physical_address >> 32))\n",
    "\n",
    "    poll.write(0x1C, max_buf.physical_address & 0xFFFFFFFF)\n",
    "    poll.write(0x20, (max_buf.physical_address >> 32))\n",
    "\n",
    "    poll.write(0x28, min_buf.physical_address & 0xFFFFFFFF)\n",
    "    poll.write(0x2C, (min_buf.physical_address >> 32))\n",
    "\n",
    "    poll.write(0x34, avg_buf.physical_address & 0xFFFFFFFF)\n",
    "    poll.write(0x38, (avg_buf.physical_address >> 32))\n",
    "\n",
    "    poll.write(0x00, 0x01)  # Start\n",
    "\n",
    "    timeout = 1000000\n",
    "    while (poll.read(0x00) & 0x2) == 0 and timeout > 0:\n",
    "        timeout -= 1\n",
    "\n",
    "    if timeout == 0:\n",
    "        print(\"❌ Timeout waiting for IP to finish.\")\n",
    "        continue\n",
    "\n",
    "    print(\"✅ IP done, saving images...\")\n",
    "\n",
    "    def upscale(buf):\n",
    "        return np.kron(buf, np.ones((UPSCALE_FACTOR, UPSCALE_FACTOR), dtype=np.uint8))\n",
    "\n",
    "    Image.fromarray(upscale(max_buf)).save(out_max)\n",
    "    Image.fromarray(upscale(min_buf)).save(out_min)\n",
    "    Image.fromarray(upscale(avg_buf)).save(out_avg)\n",
    "\n",
    "    print(f\"✅ Saved: {out_max}, {out_min}, {out_avg}\")\n"
   ]
  },
  {
   "cell_type": "code",
   "execution_count": null,
   "id": "6be02a4c",
   "metadata": {},
   "outputs": [],
   "source": []
  }
 ],
 "metadata": {
  "kernelspec": {
   "display_name": "Python 3 (ipykernel)",
   "language": "python",
   "name": "python3"
  },
  "language_info": {
   "codemirror_mode": {
    "name": "ipython",
    "version": 3
   },
   "file_extension": ".py",
   "mimetype": "text/x-python",
   "name": "python",
   "nbconvert_exporter": "python",
   "pygments_lexer": "ipython3",
   "version": "3.10.4"
  }
 },
 "nbformat": 4,
 "nbformat_minor": 5
}
